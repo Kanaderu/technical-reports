{
 "metadata": {
  "name": "",
  "signature": "sha256:7dc440ed310cff3af28c4382a04383a6f0172411afb38bcbd5b1c52ee18da554"
 },
 "nbformat": 3,
 "nbformat_minor": 0,
 "worksheets": [
  {
   "cells": [
    {
     "cell_type": "markdown",
     "metadata": {},
     "source": [
      "# Writing Scholarly Notebooks\n",
      "\n",
      "The members of the Computational Neuroscience Research Group, University of Waterloo, Canada"
     ]
    },
    {
     "cell_type": "markdown",
     "metadata": {},
     "source": [
      "## Introduction\n",
      "\n",
      "Recently, the [Computational Neuroscience Research Group][cnrg] (CNRG) at the University of Waterloo, Canada, decided that IPython Notebooks might be a good way to write internal technical reports. These reports are intended for people inside the lab, as well as researchers doing research in closely related fields, or interested in using our software, or both. The content of these reports is typically not significant enough to warrant writing a full paper, but may contain important details related to methodologies, implementation in code, or small research findings. We therefore desire a format that is quick to produce, and allows us to easily present all kinds of information including mathematics, code, and actual results as tables or figures. IPython notebooks fit this description perfectly, and provide the additional benefit that code can be run interactively, allowing others to easily play around with or extend the results of a particular report.\n",
      "\n",
      "The purpose of this IPython notebook is to describe how to write good Scholarly Notebooks, providing both a set of standards for within our lab and a set of guidelines to help others start using this powerful report-writing format. To this end, this IPython notebook has been written using the guidelines described herein. Therefore, the notebook itself can be used as the guideline, and Markdown cells should be examined to see exactly how particular effects are achieved.\n",
      "\n",
      "[cnrg]: http://compneuro.uwaterloo.ca"
     ]
    },
    {
     "cell_type": "markdown",
     "metadata": {},
     "source": [
      "## Document structure\n",
      "\n",
      "TODO: describe how Scholarly Notebooks should be structured"
     ]
    },
    {
     "cell_type": "markdown",
     "metadata": {},
     "source": [
      "## Scholarly Markdown\n",
      "\n",
      "The Markdown community has recently been discussing [the role of Markdown in academia][scholarlymd], and considerable work has been put in to [standardizing Markdown][mdstandards] and [providing tools to aid academics writing markdown][mdtools]. Since Markdown is built into IPython Notebooks, it seems sensible to align our standards for Scholarly Notebooks as closely as possible with the decisions of the Scholarly Markdown community.\n",
      "\n",
      "Our general philosopy when writing Scholarly Notebooks is to make the Markdown appear as much like the desired output as possible. This makes it easy to read the Markdown code itself. We avoid putting things such as links or equations inline unless they are intended to be displayed inline.\n",
      "\n",
      "TODO: find a good general tutorial on Markdown and provide a link.\n",
      "\n",
      "[scholarlymd]: http://blog.martinfenner.org/2014/09/07/commonmark-and-the-future-of-scholarly-markdown/ \"Fenner, Mark. CommonMark and the Future of Scholarly Markdown. Blog post, Sept. 2014.\"\n",
      "[mdstandards]: http://commonmark.org/ \"CommonMark: A strongly specified, highly compatible implementation of Markdown\"\n",
      "[mdtools]: https://github.com/karthik/markdown_science \"Ram, Karthik et al. Markdown for scientific writing. Github repository, 2014.\""
     ]
    },
    {
     "cell_type": "markdown",
     "metadata": {},
     "source": [
      "### Citations\n",
      "\n",
      "IPython notebooks (or even Markdown) do not facilitate the end-of-document citations that one would expect of a formal journal article or conference paper. The fact that IPython notebooks are an interactive, digital format makes hyperlinks a more fitting choice for citations and references. The Scholarly Markdown community provides a set of guidelines for [citations in Markdown][mdcitations], and I propose we adopt these guidelines when writing Scholarly Notebooks.\n",
      "\n",
      "The essence of the guidelines is that citations should be done as reference-style links. Reference-style links put the actual reference at the end of the Markdown block, as follows:\n",
      "\n",
      "    This is a reference-style link to [CommonMark][commonmark]. This link is [inline](http://commonmark.org/).\n",
      "    \n",
      "    [commonmark]: http://commonmark.org/\n",
      "    \n",
      "Using the reference-style link makes the Markdown itself more readable; both types of links give the same result when rendered in the notebook. Inline links should primarily be used to provide quick links to domain-level URLs mentioned in the text, such as [google.com](http://google.com).\n",
      "\n",
      "Reference-style links can provide a description of the content along with the link; this will appear in a tooltip. For example, I may provide a description of the CommonMark website by putting it in quotes after the URL:\n",
      "\n",
      "    [commonmark]: http://commonmark.org/ \"CommonMark: A strongly specified, highly compatible implementation of Markdown\"\n",
      "    \n",
      "When citing academic papers, a link to the DOI at [doi.org](http://doi.org) should be used for the URL, this helps avoid invalid links if the location of a resource changes. A full citation should be used as the description:\n",
      "\n",
      "    [spaun] http://doi.org/10.1126/science.1225266 \"Eliasmith, Chris et al. A Large-Scale Model of the Functioning Brain. Science vol. 338 no. 6111 pp. 1202-1205, 2012.\"\n",
      "\n",
      "On occasion, it may be desirable to print a hard-copy of a notebook. In this situation, the URL and citation should appear as a reference at the end of the Markdown block. To achieve this, we may have to write a custom converter to add on to whatever Markdown converter that we are using, but this should be a simple process because our citation format ensures all the information is there and easily parseable.\n",
      "\n",
      "[mdcitations]: http://blog.martinfenner.org/2013/06/19/citations-in-scholarly-markdown/ \"Fenner, Martin. Citations in Scholarly Markdown. Blog post, June 2013.\""
     ]
    },
    {
     "cell_type": "markdown",
     "metadata": {},
     "source": [
      "### Mathematics\n",
      "\n",
      "TODO: mathematics can be inserted with inline $\\LaTeX$ commands: $E = mc^2$\n",
      "\n",
      "TODO: equations that should appear on a separate line should be put on a separate line within the LaTeX `align` environment. The IPython notebook parser recognizes the LaTeX commands, and parses the content accordingly.\n",
      "\n",
      "    \\begin{align} \n",
      "    F = \\sum\\limits_{i=1}^N m_i a_i \n",
      "    \\end{align}\n",
      "    \n",
      "produces\n",
      "\n",
      "\\begin{align} \n",
      "  F = \\sum\\limits_{i=1}^N m_i a_i \n",
      "\\end{align}\n",
      "\n",
      "The align environment can also be used to align multiple equations in a block:\n",
      "\n",
      "    \\begin{align} \n",
      "    \\dot{x} & = \\sigma(y-x) \\\\ \n",
      "    \\dot{y} & = \\rho x - y - xz \\\\ \n",
      "    \\dot{z} & = -\\beta z + xy \n",
      "    \\end{align}\n",
      "\n",
      "\\begin{align} \n",
      "  \\dot{x} & = \\sigma(y-x) \\\\ \n",
      "  \\dot{y} & = \\rho x - y - xz \\\\ \n",
      "  \\dot{z} & = -\\beta z + xy \n",
      "\\end{align}"
     ]
    },
    {
     "cell_type": "markdown",
     "metadata": {},
     "source": [
      "### Code in Markdown\n",
      "\n",
      "TODO: Code can be inserted by putting four spaces in front of each line in the block:\n",
      "\n",
      "    This is a *Markdown* cell, where I want to put some code:\n",
      "    \n",
      "        import sys\n",
      "        sys.stdout.write(\"Hello there!\")\n",
      "        \n",
      "Most of the time, however, code should be executeable and thus put in an actual code block of the notebook, rather than in the Markdown."
     ]
    },
    {
     "cell_type": "markdown",
     "metadata": {},
     "source": [
      "## Code\n",
      "\n",
      "The most powerful feature of IPython notebooks, and the purpose for which they were originally produced, is to execute Python code in an interactive, visual environment.\n",
      "\n",
      "TODO"
     ]
    },
    {
     "cell_type": "markdown",
     "metadata": {},
     "source": [
      "## Citing Scholarly Notebooks\n",
      "\n",
      "The problem of how to cite Scholarly Notebooks is independent of how to write them, so this question goes beyond the proported scope of this document. However, it is an important point of discussion, so we will briefly address it here.\n",
      "\n",
      "The plan for our Scholarly Notebooks is that they should be publically available and citable. We are currently investigating various methods for providing a DOI for each notebook. We also recognize that Scholarly Notebooks are subject to change over time, and we are investgating ways to keep a citable version history of each notebook."
     ]
    }
   ],
   "metadata": {}
  }
 ]
}